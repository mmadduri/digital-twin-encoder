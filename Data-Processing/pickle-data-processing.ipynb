{
 "cells": [
  {
   "cell_type": "code",
   "execution_count": null,
   "metadata": {},
   "outputs": [],
   "source": []
  },
  {
   "cell_type": "code",
   "execution_count": 17,
   "metadata": {},
   "outputs": [],
   "source": [
    "import pickle\n",
    "import os\n",
    "\n",
    "# Define data categories based on the order in your original pickle files\n",
    "data_categories = [\n",
    "    \"target_position\",\n",
    "    \"cursor_position\",\n",
    "    \"decoded_velocities\",\n",
    "    \"intended_velocities\",\n",
    "    \"emgs\",\n",
    "    \"Ws\",\n",
    "    \"times\",\n",
    "    \"conditions\"\n",
    "]\n",
    "\n",
    "# Initialize dictionaries for each data type\n",
    "data_dicts = {category: {} for category in data_categories}\n",
    "\n",
    "# Iterate over all subject IDs\n",
    "for subject_id in range(100, 118):  \n",
    "    subject_key = f\"S{subject_id}\"\n",
    "    \n",
    "    try:\n",
    "        # Load block 1\n",
    "        with open(f\"{subject_key}_block1.pickle\", \"rb\") as f1:\n",
    "            data1 = pickle.load(f1)\n",
    "        \n",
    "        # Load block 2\n",
    "        with open(f\"{subject_key}_block2.pickle\", \"rb\") as f2:\n",
    "            data2 = pickle.load(f2)\n",
    "\n",
    "        # Store data for each category without extra nesting\n",
    "        for i, category in enumerate(data_categories):\n",
    "            if subject_key not in data_dicts[category]:\n",
    "                data_dicts[category][subject_key] = {}  # Ensure the structure exists\n",
    "            \n",
    "            # Ensure we don't have an extra nesting layer\n",
    "            data_dicts[category][subject_key][0] = data1[i] if not isinstance(data1[i], dict) else data1[i][subject_key]\n",
    "            data_dicts[category][subject_key][1] = data2[i] if not isinstance(data2[i], dict) else data2[i][subject_key]\n",
    "\n",
    "    except FileNotFoundError as e:\n",
    "        print(f\"Missing file for subject {subject_id}: {e}\")\n",
    "\n",
    "\n"
   ]
  },
  {
   "cell_type": "code",
   "execution_count": 24,
   "metadata": {},
   "outputs": [
    {
     "data": {
      "text/plain": [
       "(8,)"
      ]
     },
     "execution_count": 24,
     "metadata": {},
     "output_type": "execute_result"
    }
   ],
   "source": [
    "data_dicts['target_position']['S100'][0].shape"
   ]
  },
  {
   "cell_type": "code",
   "execution_count": 26,
   "metadata": {},
   "outputs": [
    {
     "data": {
      "text/plain": [
       "array(['C0', 'C1', 'C2', 'C3', 'C4', 'C5', 'C6', 'C7'], dtype='<U2')"
      ]
     },
     "execution_count": 26,
     "metadata": {},
     "output_type": "execute_result"
    }
   ],
   "source": [
    "data_dicts['conditions']['S100'][0]"
   ]
  },
  {
   "cell_type": "code",
   "execution_count": 27,
   "metadata": {},
   "outputs": [
    {
     "name": "stdout",
     "output_type": "stream",
     "text": [
      "Saved target_position.pickle successfully.\n",
      "Saved cursor_position.pickle successfully.\n",
      "Saved decoded_velocities.pickle successfully.\n",
      "Saved intended_velocities.pickle successfully.\n",
      "Saved emgs.pickle successfully.\n",
      "Saved Ws.pickle successfully.\n",
      "Saved times.pickle successfully.\n",
      "Saved conditions.pickle successfully.\n",
      "All pickle files saved successfully!\n"
     ]
    }
   ],
   "source": [
    "# Save each category dictionary as a separate pickle file\n",
    "for category, data in data_dicts.items():\n",
    "    filename = f\"{category}.pickle\"\n",
    "    with open(filename, \"wb\") as handle:\n",
    "        pickle.dump(data, handle, protocol=pickle.HIGHEST_PROTOCOL)\n",
    "    print(f\"Saved {filename} successfully.\")\n",
    "\n",
    "print(\"All pickle files saved successfully!\")"
   ]
  }
 ],
 "metadata": {
  "kernelspec": {
   "display_name": "emg_env",
   "language": "python",
   "name": "python3"
  },
  "language_info": {
   "codemirror_mode": {
    "name": "ipython",
    "version": 3
   },
   "file_extension": ".py",
   "mimetype": "text/x-python",
   "name": "python",
   "nbconvert_exporter": "python",
   "pygments_lexer": "ipython3",
   "version": "3.8.12"
  }
 },
 "nbformat": 4,
 "nbformat_minor": 2
}
